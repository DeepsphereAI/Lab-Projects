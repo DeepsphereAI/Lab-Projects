{
 "cells": [
  {
   "cell_type": "code",
   "execution_count": 1,
   "metadata": {},
   "outputs": [
    {
     "data": {
      "text/plain": [
       "array([[12.52385753],\n",
       "       [17.67103669],\n",
       "       [15.83288129],\n",
       "       [13.80628535],\n",
       "       [15.67833832],\n",
       "       [13.38668561],\n",
       "       [15.46397655],\n",
       "       [14.70847428],\n",
       "       [19.54737285],\n",
       "       [20.8764282 ],\n",
       "       [11.45511759],\n",
       "       [18.05923295],\n",
       "       [ 8.81105736],\n",
       "       [14.28275814],\n",
       "       [13.70675891],\n",
       "       [23.81463526],\n",
       "       [22.34193708],\n",
       "       [23.10891142],\n",
       "       [22.91502612],\n",
       "       [31.35762569],\n",
       "       [34.21510225],\n",
       "       [28.02056414],\n",
       "       [25.20386628],\n",
       "       [24.60979273],\n",
       "       [22.94149176],\n",
       "       [22.09669817],\n",
       "       [20.42320032],\n",
       "       [18.03655088],\n",
       "       [ 9.10655377],\n",
       "       [17.20607751],\n",
       "       [21.28152535],\n",
       "       [23.97222285]])"
      ]
     },
     "execution_count": 1,
     "metadata": {},
     "output_type": "execute_result"
    }
   ],
   "source": [
    "import pandas as vAR_DSLAB_pd\n",
    "\n",
    "from sklearn.linear_model import LinearRegression\n",
    "\n",
    "from sklearn.preprocessing import PolynomialFeatures\n",
    "\n",
    "vAR_DSLAB_HOUSE_PRICE_INPUT_DATA = vAR_DSLAB_pd.read_csv(\"C:/Users/DeepSphere.AI/Lab_Exercise/Unit-3/DSLAB_HOUSE_PRICE_DATA.csv\")\n",
    "\n",
    "vAR_DSLAB_HOUSE_PRICE_INPUT_DATA.head()\n",
    "\n",
    "vAR_DSLAB_HOUSE_PRICE_TRAINING_DATA = vAR_DSLAB_HOUSE_PRICE_INPUT_DATA\n",
    "\n",
    "vAR_DSLAB_HOUSE_PRICE_TRAINING_DATA_FEATURES = vAR_DSLAB_HOUSE_PRICE_TRAINING_DATA[['CRIM','ZN','INDUS','CHAS','NOX','RM','AGE','DIS','RAD','TAX','PTRATIO','B','LSTAT']]\n",
    "\n",
    "vAR_DSLAB_HOUSE_PRICE_TRAINING_DATA_LABEL = vAR_DSLAB_HOUSE_PRICE_TRAINING_DATA[['MEDV']]\n",
    "\n",
    "vAR_DSLAB_MODEL = LinearRegression()\n",
    "\n",
    "vAR_DSLAB_MODEL_TRAINING = vAR_DSLAB_MODEL.fit(vAR_DSLAB_HOUSE_PRICE_TRAINING_DATA_FEATURES,vAR_DSLAB_HOUSE_PRICE_TRAINING_DATA_LABEL)\n",
    "\n",
    "vAR_DSLAB_MODEL_TRAINING \n",
    "\n",
    "vAR_DSLAB_HOUSE_PRICE_TEST_DATA = vAR_DSLAB_HOUSE_PRICE_TRAINING_DATA.iloc[20:52]\n",
    "\n",
    "vAR_DSLAB_HOUSE_PRICE_TEST_DATA_FEATURES = vAR_DSLAB_HOUSE_PRICE_TEST_DATA[['CRIM','ZN','INDUS','CHAS','NOX','RM','AGE','DIS','RAD','TAX','PTRATIO','B','LSTAT']]\n",
    "\n",
    "vAR_DSLAB_HOUSE_PRICE_TEST_DATA_FEATURES.head()\n",
    "\n",
    "vAR_DSLAB_MODEL_TESTING = vAR_DSLAB_MODEL.predict(vAR_DSLAB_HOUSE_PRICE_TEST_DATA_FEATURES)\n",
    "\n",
    "vAR_DSLAB_MODEL_TESTING"
   ]
  },
  {
   "cell_type": "code",
   "execution_count": null,
   "metadata": {},
   "outputs": [],
   "source": []
  },
  {
   "cell_type": "code",
   "execution_count": null,
   "metadata": {},
   "outputs": [],
   "source": []
  },
  {
   "cell_type": "code",
   "execution_count": null,
   "metadata": {},
   "outputs": [],
   "source": []
  }
 ],
 "metadata": {
  "kernelspec": {
   "display_name": "Python 3",
   "language": "python",
   "name": "python3"
  },
  "language_info": {
   "codemirror_mode": {
    "name": "ipython",
    "version": 3
   },
   "file_extension": ".py",
   "mimetype": "text/x-python",
   "name": "python",
   "nbconvert_exporter": "python",
   "pygments_lexer": "ipython3",
   "version": "3.7.3"
  }
 },
 "nbformat": 4,
 "nbformat_minor": 2
}
