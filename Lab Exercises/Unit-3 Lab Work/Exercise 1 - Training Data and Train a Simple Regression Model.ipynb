{
 "cells": [
  {
   "cell_type": "code",
   "execution_count": 1,
   "metadata": {},
   "outputs": [
    {
     "data": {
      "text/plain": [
       "LinearRegression(copy_X=True, fit_intercept=True, n_jobs=None, normalize=False)"
      ]
     },
     "execution_count": 1,
     "metadata": {},
     "output_type": "execute_result"
    }
   ],
   "source": [
    "import pandas as vAR_DSLAB_pd\n",
    "\n",
    "from sklearn.linear_model import LinearRegression\n",
    "\n",
    "vAR_DSLAB_HOUSE_PRICE_INPUT_DATA = vAR_DSLAB_pd.read_csv(\"C:/Users/DeepSphere.AI/Lab_Exercise/Unit-3/DSLAB_HOUSE_PRICE_DATA.csv\")\n",
    "\n",
    "vAR_DSLAB_HOUSE_PRICE_INPUT_DATA.head()\n",
    "\n",
    "vAR_DSLAB_HOUSE_PRICE_TRAINING_DATA = vAR_DSLAB_HOUSE_PRICE_INPUT_DATA\n",
    "\n",
    "vAR_DSLAB_HOUSE_PRICE_TRAINING_DATA_FEATURES = vAR_DSLAB_HOUSE_PRICE_TRAINING_DATA[['CRIM','ZN','INDUS','CHAS','NOX','RM','AGE','DIS','RAD','TAX','PTRATIO','B','LSTAT']]\n",
    "\n",
    "vAR_DSLAB_HOUSE_PRICE_TRAINING_DATA_LABEL = vAR_DSLAB_HOUSE_PRICE_TRAINING_DATA[['MEDV']]\n",
    "\n",
    "vAR_DSLAB_MODEL = LinearRegression()\n",
    "\n",
    "vAR_DSLAB_MODEL_TRAINING = vAR_DSLAB_MODEL.fit(vAR_DSLAB_HOUSE_PRICE_TRAINING_DATA_FEATURES,vAR_DSLAB_HOUSE_PRICE_TRAINING_DATA_LABEL)\n",
    "\n",
    "vAR_DSLAB_MODEL_TRAINING "
   ]
  },
  {
   "cell_type": "code",
   "execution_count": null,
   "metadata": {},
   "outputs": [],
   "source": []
  },
  {
   "cell_type": "code",
   "execution_count": null,
   "metadata": {},
   "outputs": [],
   "source": []
  },
  {
   "cell_type": "code",
   "execution_count": null,
   "metadata": {},
   "outputs": [],
   "source": []
  }
 ],
 "metadata": {
  "kernelspec": {
   "display_name": "Python 3",
   "language": "python",
   "name": "python3"
  },
  "language_info": {
   "codemirror_mode": {
    "name": "ipython",
    "version": 3
   },
   "file_extension": ".py",
   "mimetype": "text/x-python",
   "name": "python",
   "nbconvert_exporter": "python",
   "pygments_lexer": "ipython3",
   "version": "3.7.3"
  }
 },
 "nbformat": 4,
 "nbformat_minor": 2
}
