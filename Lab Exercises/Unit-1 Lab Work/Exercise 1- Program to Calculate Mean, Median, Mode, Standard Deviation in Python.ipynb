{
 "cells": [
  {
   "cell_type": "markdown",
   "metadata": {},
   "source": [
    "# Program to find mean of given elements "
   ]
  },
  {
   "cell_type": "code",
   "execution_count": 14,
   "metadata": {},
   "outputs": [
    {
     "name": "stdout",
     "output_type": "stream",
     "text": [
      "The Calculated Mean is: 3.0\n"
     ]
    }
   ],
   "source": [
    "# Python program to print mean of elements \n",
    "  \n",
    "# list of elements to calculate mean \n",
    "\n",
    "# Create a list of Numbers\n",
    "\n",
    "vAR_DSLAB_N_NUM = [1, 2, 3, 4, 5] \n",
    "\n",
    "vAR_DSLAB_N = len(vAR_DSLAB_N_NUM) \n",
    "  \n",
    "vAR_DSLAB_GET_SUM = sum(vAR_DSLAB_N_NUM) \n",
    "\n",
    "vAR_DSLAB_MEAN = vAR_DSLAB_GET_SUM / vAR_DSLAB_N \n",
    "\n",
    "print(\"The Calculated Mean is: \" + str(vAR_DSLAB_MEAN)) "
   ]
  },
  {
   "cell_type": "markdown",
   "metadata": {},
   "source": [
    "# Program to find median of given elements"
   ]
  },
  {
   "cell_type": "code",
   "execution_count": 15,
   "metadata": {},
   "outputs": [
    {
     "name": "stdout",
     "output_type": "stream",
     "text": [
      "The Calculated Median is: 3\n"
     ]
    }
   ],
   "source": [
    "# Python program to print median of elements\n",
    "\n",
    "vAR_DSLAB_N_NUM.sort() \n",
    "  \n",
    "if vAR_DSLAB_N % 2 == 0: \n",
    "    \n",
    "    vAR_DSLAB_MEDIAN1 = vAR_DSLAB_N_NUM[vAR_DSLAB_N//2]\n",
    "    \n",
    "    vAR_DSLAB_MEDIAN2 = vAR_DSLAB_N_NUM[vAR_DSLAB_N//2 - 1] \n",
    "    \n",
    "    vAR_DSLAB_MEDIAN3 = (vAR_DSLAB_MEDIAN1 + vAR_DSLAB_MEDIAN2)/2\n",
    "    \n",
    "else: \n",
    "    vAR_DSLAB_MEDIAN = vAR_DSLAB_N_NUM[vAR_DSLAB_N//2]\n",
    "                            \n",
    "print(\"The Calculated Median is: \" + str(vAR_DSLAB_MEDIAN)) \n"
   ]
  },
  {
   "cell_type": "markdown",
   "metadata": {},
   "source": [
    "# Program to find mode of given elements"
   ]
  },
  {
   "cell_type": "code",
   "execution_count": 16,
   "metadata": {},
   "outputs": [
    {
     "name": "stdout",
     "output_type": "stream",
     "text": [
      "The Calculated Mode is : 5\n"
     ]
    }
   ],
   "source": [
    "from collections import Counter \n",
    "  \n",
    "# list of elements to calculate mode \n",
    "\n",
    "vAR_DSLAB_N_NUM = [1, 2, 3, 4, 5, 5] \n",
    "\n",
    "vAR_DSLAB_N = len(vAR_DSLAB_N_NUM) \n",
    "  \n",
    "vAR_DSLAB_DATA = Counter(vAR_DSLAB_N_NUM) \n",
    "\n",
    "vAR_DSLAB_GET_MODE = dict(vAR_DSLAB_DATA) \n",
    "\n",
    "vAR_DSLAB_MODE = [vAR_DSLAB_K for vAR_DSLAB_K, vAR_DSLAB_V in vAR_DSLAB_GET_MODE.items() if vAR_DSLAB_V == max(list(vAR_DSLAB_DATA.values()))] \n",
    "  \n",
    "if len(vAR_DSLAB_MODE) == vAR_DSLAB_N: \n",
    "    vAR_DSLAB_GET_MODE = \"No mode found\"\n",
    "else: \n",
    "    vAR_DSLAB_GET_MODE = \"The Calculated Mode is : \" + ', '.join(map(str, vAR_DSLAB_MODE)) \n",
    "      \n",
    "print(vAR_DSLAB_GET_MODE) \n"
   ]
  },
  {
   "cell_type": "markdown",
   "metadata": {},
   "source": [
    "# Program to find standard deviation of given elements"
   ]
  },
  {
   "cell_type": "code",
   "execution_count": 17,
   "metadata": {},
   "outputs": [
    {
     "name": "stdout",
     "output_type": "stream",
     "text": [
      "The Calculated Standard Deviation of sample is 1.5811388300841898 \n"
     ]
    }
   ],
   "source": [
    "# Python code to demonstrate stdev() function \n",
    "  \n",
    "# importing Statistics module \n",
    "import statistics \n",
    "  \n",
    "# creating a simple data - set \n",
    "vAR_DSLAB_SAMPLE = [1, 2, 3, 4, 5] \n",
    "  \n",
    "# Prints standard deviation \n",
    "# xbar is set to default value of 1 \n",
    "\n",
    "print(\"The Calculated Standard Deviation of sample is % s \" % (statistics.stdev(vAR_DSLAB_SAMPLE))) \n"
   ]
  },
  {
   "cell_type": "code",
   "execution_count": null,
   "metadata": {},
   "outputs": [],
   "source": []
  },
  {
   "cell_type": "code",
   "execution_count": null,
   "metadata": {},
   "outputs": [],
   "source": []
  },
  {
   "cell_type": "code",
   "execution_count": null,
   "metadata": {},
   "outputs": [],
   "source": []
  }
 ],
 "metadata": {
  "kernelspec": {
   "display_name": "Python 3",
   "language": "python",
   "name": "python3"
  },
  "language_info": {
   "codemirror_mode": {
    "name": "ipython",
    "version": 3
   },
   "file_extension": ".py",
   "mimetype": "text/x-python",
   "name": "python",
   "nbconvert_exporter": "python",
   "pygments_lexer": "ipython3",
   "version": "3.7.3"
  }
 },
 "nbformat": 4,
 "nbformat_minor": 2
}
