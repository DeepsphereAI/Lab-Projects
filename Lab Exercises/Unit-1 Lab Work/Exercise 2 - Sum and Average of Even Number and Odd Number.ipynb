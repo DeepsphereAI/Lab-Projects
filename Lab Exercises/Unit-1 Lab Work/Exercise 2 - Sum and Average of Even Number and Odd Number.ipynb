{
 "cells": [
  {
   "cell_type": "code",
   "execution_count": 1,
   "metadata": {},
   "outputs": [
    {
     "name": "stdout",
     "output_type": "stream",
     "text": [
      " Please Enter the Value : 10\n",
      "The Sum of Even Numbers from 1 to 10 = 30\n",
      "The Sum of Odd Numbers from 1 to 10 = 25\n",
      "The Average of Even Numbers from 1 to 10 = 6\n",
      "The Average of Odd Numbers from 1 to 10 = 5\n"
     ]
    }
   ],
   "source": [
    "vAR_DSLAB_VALUE = int(input(\" Please Enter the Value : \"))\n",
    "\n",
    "vAR_DSLAB_EVEN_TOTAL = 0\n",
    "\n",
    "vAR_DSLAB_EVEN_COUNT = 0\n",
    "\n",
    "vAR_DSLAB_ODD_TOTAL = 0\n",
    "\n",
    "vAR_DSLAB_ODD_COUNT = 0\n",
    " \n",
    "for vAR_DSLAB_NUMBER in range(1, vAR_DSLAB_VALUE + 1):\n",
    "    \n",
    "    if(vAR_DSLAB_NUMBER % 2 == 0):\n",
    "        \n",
    "        vAR_DSLAB_EVEN_TOTAL = vAR_DSLAB_EVEN_TOTAL + vAR_DSLAB_NUMBER\n",
    "        \n",
    "        vAR_DSLAB_EVEN_COUNT = vAR_DSLAB_EVEN_COUNT + 1 \n",
    "        \n",
    "        vAR_DSLAB_EVEN_AVERAGE = int(vAR_DSLAB_EVEN_TOTAL/vAR_DSLAB_EVEN_COUNT)\n",
    "        \n",
    "        \n",
    "    else:\n",
    "        \n",
    "        vAR_DSLAB_ODD_TOTAL = vAR_DSLAB_ODD_TOTAL + vAR_DSLAB_NUMBER\n",
    " \n",
    "        vAR_DSLAB_ODD_COUNT = vAR_DSLAB_ODD_COUNT + 1\n",
    "    \n",
    "        vAR_DSLAB_ODD_AVERAGE = int(vAR_DSLAB_ODD_TOTAL/vAR_DSLAB_ODD_COUNT)\n",
    "        \n",
    "    \n",
    "print(\"The Sum of Even Numbers from 1 to {0} = {1}\".format(vAR_DSLAB_NUMBER, vAR_DSLAB_EVEN_TOTAL))\n",
    "\n",
    "print(\"The Sum of Odd Numbers from 1 to {0} = {1}\".format(vAR_DSLAB_NUMBER, vAR_DSLAB_ODD_TOTAL))\n",
    "\n",
    "print(\"The Average of Even Numbers from 1 to {0} = {1}\".format(vAR_DSLAB_NUMBER, vAR_DSLAB_EVEN_AVERAGE))\n",
    "\n",
    "print(\"The Average of Odd Numbers from 1 to {0} = {1}\".format(vAR_DSLAB_NUMBER, vAR_DSLAB_ODD_AVERAGE))\n"
   ]
  },
  {
   "cell_type": "code",
   "execution_count": null,
   "metadata": {},
   "outputs": [],
   "source": []
  },
  {
   "cell_type": "code",
   "execution_count": null,
   "metadata": {},
   "outputs": [],
   "source": []
  },
  {
   "cell_type": "code",
   "execution_count": null,
   "metadata": {},
   "outputs": [],
   "source": []
  },
  {
   "cell_type": "code",
   "execution_count": null,
   "metadata": {},
   "outputs": [],
   "source": []
  },
  {
   "cell_type": "code",
   "execution_count": null,
   "metadata": {},
   "outputs": [],
   "source": []
  },
  {
   "cell_type": "code",
   "execution_count": null,
   "metadata": {},
   "outputs": [],
   "source": []
  }
 ],
 "metadata": {
  "kernelspec": {
   "display_name": "Python 3",
   "language": "python",
   "name": "python3"
  },
  "language_info": {
   "codemirror_mode": {
    "name": "ipython",
    "version": 3
   },
   "file_extension": ".py",
   "mimetype": "text/x-python",
   "name": "python",
   "nbconvert_exporter": "python",
   "pygments_lexer": "ipython3",
   "version": "3.7.3"
  }
 },
 "nbformat": 4,
 "nbformat_minor": 2
}
