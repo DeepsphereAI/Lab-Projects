{
 "cells": [
  {
   "cell_type": "code",
   "execution_count": 2,
   "metadata": {},
   "outputs": [
    {
     "data": {
      "text/plain": [
       "49.901"
      ]
     },
     "execution_count": 2,
     "metadata": {},
     "output_type": "execute_result"
    }
   ],
   "source": [
    "import random\n",
    "\n",
    "def vAR_DSLAB_COIN_TRAIL():\n",
    "    vAR_DSLAB_HEADS = 0\n",
    "    for vAR_DSLAB_i in range(100):\n",
    "        if random.random() <= 0.5:\n",
    "            vAR_DSLAB_HEADS +=1\n",
    "    return vAR_DSLAB_HEADS\n",
    "\n",
    "def vAR_DSLAB_SIMULATE(vAR_DSLAB_N):\n",
    "   vAR_DSLAB_TRAILS = []\n",
    "   for vAR_DSLAB_i in range(vAR_DSLAB_N):\n",
    "       vAR_DSLAB_TRAILS.append(vAR_DSLAB_COIN_TRAIL())\n",
    "   return(sum(vAR_DSLAB_TRAILS)/vAR_DSLAB_N)\n",
    "\n",
    "#coin_trial()\n",
    "\n",
    "vAR_DSLAB_SIMULATE(1000)"
   ]
  },
  {
   "cell_type": "code",
   "execution_count": null,
   "metadata": {},
   "outputs": [],
   "source": []
  },
  {
   "cell_type": "code",
   "execution_count": null,
   "metadata": {},
   "outputs": [],
   "source": []
  }
 ],
 "metadata": {
  "kernelspec": {
   "display_name": "Python 3",
   "language": "python",
   "name": "python3"
  },
  "language_info": {
   "codemirror_mode": {
    "name": "ipython",
    "version": 3
   },
   "file_extension": ".py",
   "mimetype": "text/x-python",
   "name": "python",
   "nbconvert_exporter": "python",
   "pygments_lexer": "ipython3",
   "version": "3.7.3"
  }
 },
 "nbformat": 4,
 "nbformat_minor": 2
}
