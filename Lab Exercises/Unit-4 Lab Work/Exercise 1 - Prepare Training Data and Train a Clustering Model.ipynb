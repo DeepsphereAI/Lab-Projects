{
 "cells": [
  {
   "cell_type": "code",
   "execution_count": 1,
   "metadata": {},
   "outputs": [
    {
     "data": {
      "text/plain": [
       "KMeans(algorithm='auto', copy_x=True, init='k-means++', max_iter=300,\n",
       "       n_clusters=2, n_init=10, n_jobs=None, precompute_distances='auto',\n",
       "       random_state=0, tol=0.0001, verbose=0)"
      ]
     },
     "execution_count": 1,
     "metadata": {},
     "output_type": "execute_result"
    }
   ],
   "source": [
    "import pandas as vAR_DSLAB_pd\n",
    "\n",
    "from sklearn.cluster import KMeans\n",
    "\n",
    "vAR_DSLAB_BREAST_CANCER_INPUT_DATA = vAR_DSLAB_pd.read_csv(\"C:/Users/DeepSphere.AI/Lab_Exercise/Unit-4/DSLAB_BREAST_CANCER.csv\")\n",
    "\n",
    "vAR_DSLAB_BREAST_CANCER_TRAIN_DATA = vAR_DSLAB_BREAST_CANCER_INPUT_DATA.drop([\"diagnosis\"], axis = 1)\n",
    "\n",
    "vAR_DSLAB_BREAST_CANCER_TRAIN_DATA.head()\n",
    "\n",
    "vAR_DSLAB_MODEL = KMeans(n_clusters=2,random_state=0)\n",
    "\n",
    "vAR_DSLAB_MODEL_TRAINING = vAR_DSLAB_MODEL.fit(vAR_DSLAB_BREAST_CANCER_TRAIN_DATA)\n",
    "\n",
    "vAR_DSLAB_MODEL_TRAINING\n"
   ]
  },
  {
   "cell_type": "code",
   "execution_count": null,
   "metadata": {},
   "outputs": [],
   "source": []
  }
 ],
 "metadata": {
  "kernelspec": {
   "display_name": "Python 3",
   "language": "python",
   "name": "python3"
  },
  "language_info": {
   "codemirror_mode": {
    "name": "ipython",
    "version": 3
   },
   "file_extension": ".py",
   "mimetype": "text/x-python",
   "name": "python",
   "nbconvert_exporter": "python",
   "pygments_lexer": "ipython3",
   "version": "3.7.3"
  }
 },
 "nbformat": 4,
 "nbformat_minor": 2
}
