{
 "cells": [
  {
   "cell_type": "code",
   "execution_count": 1,
   "metadata": {},
   "outputs": [
    {
     "data": {
      "text/plain": [
       "array(['Medium Profile', 'Medium Profile', 'High Profile', 'Low Profile',\n",
       "       'Low Profile', 'Medium Profile', 'Low Profile', 'Low Profile',\n",
       "       'Low Profile', 'Low Profile', 'Low Profile', 'High Profile',\n",
       "       'Low Profile', 'Low Profile', 'Medium Profile', 'Low Profile',\n",
       "       'Low Profile', 'High Profile', 'Low Profile', 'Low Profile',\n",
       "       'Low Profile', 'Low Profile', 'Low Profile', 'High Profile',\n",
       "       'Low Profile', 'Low Profile', 'Low Profile', 'High Profile',\n",
       "       'Low Profile', 'Low Profile', 'Medium Profile', 'Low Profile',\n",
       "       'High Profile', 'Low Profile', 'Low Profile', 'High Profile',\n",
       "       'High Profile', 'High Profile', 'Low Profile', 'High Profile',\n",
       "       'Low Profile', 'Low Profile', 'Low Profile', 'Low Profile',\n",
       "       'Low Profile', 'Low Profile', 'Low Profile', 'Low Profile',\n",
       "       'Low Profile', 'Medium Profile', 'High Profile', 'Low Profile',\n",
       "       'Low Profile', 'High Profile', 'Low Profile', 'Low Profile',\n",
       "       'Low Profile', 'Low Profile', 'Low Profile', 'Low Profile',\n",
       "       'Low Profile', 'High Profile', 'Low Profile', 'Low Profile',\n",
       "       'Low Profile', 'Low Profile', 'Low Profile', 'Medium Profile',\n",
       "       'Low Profile', 'Medium Profile', 'Low Profile', 'Medium Profile',\n",
       "       'Low Profile', 'Low Profile', 'Low Profile', 'High Profile',\n",
       "       'Low Profile', 'High Profile', 'Low Profile', 'Low Profile',\n",
       "       'Medium Profile', 'Low Profile', 'Low Profile', 'Medium Profile',\n",
       "       'Low Profile', 'Low Profile', 'Low Profile', 'Low Profile',\n",
       "       'Low Profile', 'Medium Profile', 'High Profile', 'Low Profile',\n",
       "       'Low Profile', 'Low Profile', 'Low Profile', 'Low Profile',\n",
       "       'Low Profile', 'Medium Profile', 'Medium Profile'], dtype=object)"
      ]
     },
     "execution_count": 1,
     "metadata": {},
     "output_type": "execute_result"
    }
   ],
   "source": [
    "import pandas as vAR_DSLAB_pd\n",
    "\n",
    "from sklearn.tree import DecisionTreeClassifier \n",
    "\n",
    "vAR_DSLAB_CUSTOMER_SALES_INPUT_DATA = vAR_DSLAB_pd.read_csv(\"C:/Users/DeepSphere.AI/Lab_Exercise/Unit-2/DSLAB_CUSTOMER_DATA.csv\")\n",
    "                       \n",
    "vAR_DSLAB_CUSTOMER_SALES_INPUT_DATA.head()\n",
    "\n",
    "vAR_DSLAB_CUSTOMER_SALES_TRAINING_DATA = vAR_DSLAB_CUSTOMER_SALES_INPUT_DATA\n",
    "\n",
    "vAR_DSLAB_CUSTOMER_SALES_TRAINING_DATA_FEATURES = vAR_DSLAB_CUSTOMER_SALES_TRAINING_DATA[['Fresh','Milk','Grocery','Frozen','Detergents_Paper','Delicassen']]\n",
    "\n",
    "vAR_DSLAB_CUSTOMER_SALES_TRAINING_DATA_LABEL = vAR_DSLAB_CUSTOMER_SALES_TRAINING_DATA[['Customer Type']]\n",
    "\n",
    "vAR_DSLAB_CUSTOMER_SALES_TRAINING_DATA_LABEL = vAR_DSLAB_CUSTOMER_SALES_TRAINING_DATA[['Customer Type']]\n",
    "\n",
    "vAR_DSLAB_MODEL = DecisionTreeClassifier()\n",
    "\n",
    "vAR_DSLAB_MODEL_TRAINING = vAR_DSLAB_MODEL.fit(vAR_DSLAB_CUSTOMER_SALES_TRAINING_DATA_FEATURES,vAR_DSLAB_CUSTOMER_SALES_TRAINING_DATA_LABEL)\n",
    "\n",
    "#vAR_DSLAB_MODEL_TRAINING\n",
    "\n",
    "vAR_DSLAB_CUSTOMER_SALES_TEST_DATA = vAR_DSLAB_CUSTOMER_SALES_TRAINING_DATA.iloc[50:149]\n",
    "\n",
    "vAR_DSLAB_CUSTOMER_SALES_TEST_DATA_FEATURES = vAR_DSLAB_CUSTOMER_SALES_TEST_DATA[['Fresh','Milk','Grocery','Frozen','Detergents_Paper','Delicassen']]\n",
    "\n",
    "vAR_DSLAB_MODEL_TESTING = vAR_DSLAB_MODEL.predict(vAR_DSLAB_CUSTOMER_SALES_TEST_DATA_FEATURES)\n",
    "\n",
    "vAR_DSLAB_MODEL_TESTING\n"
   ]
  },
  {
   "cell_type": "code",
   "execution_count": null,
   "metadata": {},
   "outputs": [],
   "source": []
  },
  {
   "cell_type": "code",
   "execution_count": 11,
   "metadata": {},
   "outputs": [
    {
     "data": {
      "text/plain": [
       "array(['Medium Profile', 'Medium Profile', 'High Profile', 'Low Profile',\n",
       "       'Low Profile', 'Medium Profile', 'Low Profile', 'Low Profile',\n",
       "       'Low Profile', 'Low Profile', 'Low Profile', 'High Profile',\n",
       "       'Low Profile', 'Low Profile', 'Medium Profile', 'Low Profile',\n",
       "       'Low Profile', 'High Profile', 'Low Profile', 'Low Profile',\n",
       "       'Low Profile', 'Low Profile', 'Low Profile', 'High Profile',\n",
       "       'Low Profile', 'Low Profile', 'Low Profile', 'High Profile',\n",
       "       'Low Profile', 'Low Profile', 'Medium Profile', 'Low Profile',\n",
       "       'High Profile', 'Low Profile', 'Low Profile', 'High Profile',\n",
       "       'High Profile', 'High Profile', 'Low Profile', 'High Profile',\n",
       "       'Low Profile', 'Low Profile', 'Low Profile', 'Low Profile',\n",
       "       'Low Profile', 'Low Profile', 'Low Profile', 'Low Profile',\n",
       "       'Low Profile', 'Medium Profile', 'High Profile', 'Low Profile',\n",
       "       'Low Profile', 'High Profile', 'Low Profile', 'Low Profile',\n",
       "       'Low Profile', 'Low Profile', 'Low Profile', 'Low Profile',\n",
       "       'Low Profile', 'High Profile', 'Low Profile', 'Low Profile',\n",
       "       'Low Profile', 'Low Profile', 'Low Profile', 'Medium Profile',\n",
       "       'Low Profile', 'Medium Profile', 'Low Profile', 'Medium Profile',\n",
       "       'Low Profile', 'Low Profile', 'Low Profile', 'High Profile',\n",
       "       'Low Profile', 'High Profile', 'Low Profile', 'Low Profile',\n",
       "       'Medium Profile', 'Low Profile', 'Low Profile', 'Medium Profile',\n",
       "       'Low Profile', 'Low Profile', 'Low Profile', 'Low Profile',\n",
       "       'Low Profile', 'Medium Profile', 'High Profile', 'Low Profile',\n",
       "       'Low Profile', 'Low Profile', 'Low Profile', 'Low Profile',\n",
       "       'Low Profile', 'Medium Profile', 'Medium Profile'], dtype=object)"
      ]
     },
     "execution_count": 11,
     "metadata": {},
     "output_type": "execute_result"
    }
   ],
   "source": []
  },
  {
   "cell_type": "code",
   "execution_count": null,
   "metadata": {},
   "outputs": [],
   "source": []
  }
 ],
 "metadata": {
  "kernelspec": {
   "display_name": "Python 3",
   "language": "python",
   "name": "python3"
  },
  "language_info": {
   "codemirror_mode": {
    "name": "ipython",
    "version": 3
   },
   "file_extension": ".py",
   "mimetype": "text/x-python",
   "name": "python",
   "nbconvert_exporter": "python",
   "pygments_lexer": "ipython3",
   "version": "3.7.3"
  }
 },
 "nbformat": 4,
 "nbformat_minor": 2
}
