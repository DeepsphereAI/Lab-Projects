{
 "cells": [
  {
   "cell_type": "code",
   "execution_count": 2,
   "metadata": {},
   "outputs": [
    {
     "name": "stderr",
     "output_type": "stream",
     "text": [
      "C:\\Users\\durga\\Anaconda3\\lib\\site-packages\\sklearn\\linear_model\\logistic.py:432: FutureWarning: Default solver will be changed to 'lbfgs' in 0.22. Specify a solver to silence this warning.\n",
      "  FutureWarning)\n",
      "C:\\Users\\durga\\Anaconda3\\lib\\site-packages\\sklearn\\utils\\validation.py:724: DataConversionWarning: A column-vector y was passed when a 1d array was expected. Please change the shape of y to (n_samples, ), for example using ravel().\n",
      "  y = column_or_1d(y, warn=True)\n"
     ]
    },
    {
     "data": {
      "text/plain": [
       "LogisticRegression(C=1.0, class_weight=None, dual=False, fit_intercept=True,\n",
       "                   intercept_scaling=1, l1_ratio=None, max_iter=100,\n",
       "                   multi_class='warn', n_jobs=None, penalty='l2',\n",
       "                   random_state=None, solver='warn', tol=0.0001, verbose=0,\n",
       "                   warm_start=False)"
      ]
     },
     "execution_count": 2,
     "metadata": {},
     "output_type": "execute_result"
    }
   ],
   "source": [
    "import pandas as vAR_DSLAB_pd\n",
    "\n",
    "from sklearn.linear_model import LogisticRegression\n",
    "\n",
    "vAR_DSLAB_DIABETES_INPUT_DATA = vAR_DSLAB_pd.read_csv(\"C:/Users/DeepSphere.AI/Lab_Exercise/Unit-2/DSLAB_DIABETES_TRAINING_DATA.csv\")\n",
    "                       \n",
    "vAR_DSLAB_DIABETES_INPUT_DATA.head()\n",
    "\n",
    "vAR_DSLAB_DIABETES_TRAINING_DATA = vAR_DSLAB_DIABETES_INPUT_DATA\n",
    "\n",
    "vAR_DSLAB_DIABETES_TRAINING_DATA_FEATURES = vAR_DSLAB_DIABETES_TRAINING_DATA[['Glucose','BloodPressure','SkinThickness','Insulin','BMI','Age']]\n",
    "\n",
    "vAR_DSLAB_DIABETES_TRAINING_DATA_LABEL = vAR_DSLAB_DIABETES_TRAINING_DATA[['Outcome']]\n",
    "\n",
    "#vAR_DSLAB_DIABETES_TRAINING_DATA_FEATURES.head()\n",
    "\n",
    "vAR_DSLAB_MODEL = LogisticRegression()\n",
    "\n",
    "vAR_DSLAB_MODEL_TRAINING = vAR_DSLAB_MODEL.fit(vAR_DSLAB_DIABETES_TRAINING_DATA_FEATURES,vAR_DSLAB_DIABETES_TRAINING_DATA_LABEL)\n",
    "\n",
    "vAR_DSLAB_MODEL_TRAINING\n"
   ]
  },
  {
   "cell_type": "code",
   "execution_count": null,
   "metadata": {},
   "outputs": [],
   "source": []
  },
  {
   "cell_type": "code",
   "execution_count": null,
   "metadata": {},
   "outputs": [],
   "source": []
  },
  {
   "cell_type": "code",
   "execution_count": null,
   "metadata": {},
   "outputs": [],
   "source": []
  }
 ],
 "metadata": {
  "kernelspec": {
   "display_name": "Python 3",
   "language": "python",
   "name": "python3"
  },
  "language_info": {
   "codemirror_mode": {
    "name": "ipython",
    "version": 3
   },
   "file_extension": ".py",
   "mimetype": "text/x-python",
   "name": "python",
   "nbconvert_exporter": "python",
   "pygments_lexer": "ipython3",
   "version": "3.7.3"
  }
 },
 "nbformat": 4,
 "nbformat_minor": 2
}
